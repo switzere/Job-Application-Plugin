{
 "cells": [
  {
   "cell_type": "code",
   "execution_count": 2,
   "metadata": {},
   "outputs": [],
   "source": [
    "import csv\n",
    "import json\n",
    "\n",
    "# Open the CSV file for reading\n",
    "with open('job_applications.csv', 'r', newline='', encoding='utf-8') as csvfile:\n",
    "    # Open the JSON file for writing\n",
    "    with open('job_applications.json', 'w', encoding='utf-8') as jsonfile:\n",
    "        # Define the fieldnames\n",
    "        fieldnames = (\"jobTitle\", \"companyInfo\", \"url\", \"jobDescription\", \"timestamp\", \"notes\", \"stage\", \"postingSource\")\n",
    "        \n",
    "        # Create a CSV reader object\n",
    "        reader = csv.DictReader(csvfile, fieldnames)\n",
    "        \n",
    "        # Skip the header row\n",
    "        next(reader)\n",
    "        \n",
    "        # Create a list to hold the rows\n",
    "        data = []\n",
    "        \n",
    "        # Iterate over each row in the CSV\n",
    "        for row in reader:\n",
    "            # Append the row to the data list\n",
    "            data.append(row)\n",
    "        \n",
    "        # Write the data list to the JSON file\n",
    "        json.dump(data, jsonfile, indent=4)"
   ]
  }
 ],
 "metadata": {
  "kernelspec": {
   "display_name": "Python 3",
   "language": "python",
   "name": "python3"
  },
  "language_info": {
   "codemirror_mode": {
    "name": "ipython",
    "version": 3
   },
   "file_extension": ".py",
   "mimetype": "text/x-python",
   "name": "python",
   "nbconvert_exporter": "python",
   "pygments_lexer": "ipython3",
   "version": "3.11.5"
  }
 },
 "nbformat": 4,
 "nbformat_minor": 2
}
